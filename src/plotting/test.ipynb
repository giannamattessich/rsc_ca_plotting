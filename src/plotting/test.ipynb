{
 "cells": [
  {
   "cell_type": "code",
   "execution_count": 15,
   "metadata": {},
   "outputs": [
    {
     "name": "stdout",
     "output_type": "stream",
     "text": [
      "yeu\n",
      "t\n",
      "dict_keys(['hello', 'this'])\n"
     ]
    }
   ],
   "source": [
    "def fr(*args, **kwargs):\n",
    "    if \"hello\" in kwargs.keys():\n",
    "        print('yeu')\n",
    "    if \"this\" in args:\n",
    "        print(\"t\")\n",
    "    print(kwargs.keys())\n",
    "\n",
    "fr('1', 'this', hello='hello', this='this')"
   ]
  },
  {
   "cell_type": "code",
   "execution_count": 25,
   "metadata": {},
   "outputs": [
    {
     "name": "stdout",
     "output_type": "stream",
     "text": [
      "2\n"
     ]
    }
   ],
   "source": [
    "def hello(*args, **kwargs):\n",
    "    if 'barrier_coords' in kwargs.keys():\n",
    "        print(kwargs['barrier_coords'][0][0])\n",
    "    \n",
    "\n",
    "hello(not_true= False, barrier_coords=[[2,3], [4,3]])"
   ]
  },
  {
   "cell_type": "code",
   "execution_count": 27,
   "metadata": {},
   "outputs": [
    {
     "ename": "TypeError",
     "evalue": "len() takes exactly one argument (3 given)",
     "output_type": "error",
     "traceback": [
      "\u001b[1;31m---------------------------------------------------------------------------\u001b[0m",
      "\u001b[1;31mTypeError\u001b[0m                                 Traceback (most recent call last)",
      "\u001b[1;32mc:\\Users\\Gianna\\Documents\\Python Scripts\\rsc_ca_plotting\\src\\plotting\\test.ipynb Cell 3\u001b[0m line \u001b[0;36m4\n\u001b[0;32m      <a href='vscode-notebook-cell:/c%3A/Users/Gianna/Documents/Python%20Scripts/rsc_ca_plotting/src/plotting/test.ipynb#W3sZmlsZQ%3D%3D?line=0'>1</a>\u001b[0m \u001b[39mdef\u001b[39;00m \u001b[39mhello\u001b[39m(\u001b[39m*\u001b[39margs):\n\u001b[0;32m      <a href='vscode-notebook-cell:/c%3A/Users/Gianna/Documents/Python%20Scripts/rsc_ca_plotting/src/plotting/test.ipynb#W3sZmlsZQ%3D%3D?line=1'>2</a>\u001b[0m     \u001b[39mprint\u001b[39m(\u001b[39mlen\u001b[39m(\u001b[39m*\u001b[39margs))\n\u001b[1;32m----> <a href='vscode-notebook-cell:/c%3A/Users/Gianna/Documents/Python%20Scripts/rsc_ca_plotting/src/plotting/test.ipynb#W3sZmlsZQ%3D%3D?line=3'>4</a>\u001b[0m hello(\u001b[39m'\u001b[39;49m\u001b[39m this\u001b[39;49m\u001b[39m'\u001b[39;49m, \u001b[39m'\u001b[39;49m\u001b[39mis\u001b[39;49m\u001b[39m'\u001b[39;49m, \u001b[39m'\u001b[39;49m\u001b[39mtest\u001b[39;49m\u001b[39m'\u001b[39;49m)\n",
      "\u001b[1;32mc:\\Users\\Gianna\\Documents\\Python Scripts\\rsc_ca_plotting\\src\\plotting\\test.ipynb Cell 3\u001b[0m line \u001b[0;36m2\n\u001b[0;32m      <a href='vscode-notebook-cell:/c%3A/Users/Gianna/Documents/Python%20Scripts/rsc_ca_plotting/src/plotting/test.ipynb#W3sZmlsZQ%3D%3D?line=0'>1</a>\u001b[0m \u001b[39mdef\u001b[39;00m \u001b[39mhello\u001b[39m(\u001b[39m*\u001b[39margs):\n\u001b[1;32m----> <a href='vscode-notebook-cell:/c%3A/Users/Gianna/Documents/Python%20Scripts/rsc_ca_plotting/src/plotting/test.ipynb#W3sZmlsZQ%3D%3D?line=1'>2</a>\u001b[0m     \u001b[39mprint\u001b[39m(\u001b[39mlen\u001b[39;49m(\u001b[39m*\u001b[39;49margs))\n",
      "\u001b[1;31mTypeError\u001b[0m: len() takes exactly one argument (3 given)"
     ]
    }
   ],
   "source": [
    "def hello(*args):\n",
    "    print(len(*args))\n",
    "\n",
    "hello(' this', 'is', 'test')"
   ]
  },
  {
   "cell_type": "code",
   "execution_count": null,
   "metadata": {},
   "outputs": [],
   "source": [
    "ax_indices = [[i, j] for ]\n",
    "next((i for i, sublist in enumerate(ax_indices) if sublist == [arg_num, session_idx]), None)\n",
    "def plots(*args):\n",
    "    for arg_num, arg in enumerate(args):\n",
    "        print()"
   ]
  },
  {
   "cell_type": "code",
   "execution_count": 1,
   "metadata": {},
   "outputs": [
    {
     "name": "stdout",
     "output_type": "stream",
     "text": [
      "True\n"
     ]
    }
   ],
   "source": [
    "import pandas as pd\n",
    "dic = pd.DataFrame({'cell name': [], 'time': []})\n",
    "print(dic.empty)"
   ]
  },
  {
   "cell_type": "code",
   "execution_count": 14,
   "metadata": {},
   "outputs": [
    {
     "name": "stdout",
     "output_type": "stream",
     "text": [
      "20231004\n",
      "miso\n",
      "20241005\n",
      "20220918\n",
      "['20241005', '20220918', '20231004']\n"
     ]
    }
   ],
   "source": [
    "import re\n",
    "animal_name_found = False\n",
    "directory = ['20231004_miso_dlc_session1.csv', '20241005_miso_session1_run2.csv', '20220918_miso_session3.csv']\n",
    "dates = set()\n",
    "re_pattern = re.compile(r'(\\d{8})_([^_]+)_')\n",
    "for file in directory:\n",
    "    match = re_pattern.search(file)\n",
    "    if match:\n",
    "        date = match.group(1)\n",
    "        dates.add(date)\n",
    "        print(date)\n",
    "        if not animal_name_found:\n",
    "           animal = match.group(2)\n",
    "           animal_name_found = True\n",
    "           print(animal)\n",
    "    else:\n",
    "        print('no match')\n",
    "print(list(dates))"
   ]
  },
  {
   "cell_type": "code",
   "execution_count": 22,
   "metadata": {},
   "outputs": [
    {
     "name": "stdout",
     "output_type": "stream",
     "text": [
      "True\n",
      "C:\\Users\\Gianna\\Desktop\\Analysis - Plots\\movedirstest\\20230728_kombucha_session2_E-WBarrier_DLC.csv\n"
     ]
    }
   ],
   "source": [
    "import os\n",
    "import shutil\n",
    "\n",
    "def move_files(files, destination):\n",
    "    if not os.path.exists(destination):\n",
    "        os.makedirs(destination)\n",
    "\n",
    "    # Move each file to the destination directory\n",
    "    for file_path in list(set(files)):\n",
    "        file_name = os.path.basename(file_path)\n",
    "        destination_path = os.path.join(destination, file_name)\n",
    "        shutil.copy(file_path, destination_path)\n",
    "\n",
    "dlc_file = r\"c:\\Users\\Gianna\\Desktop\\Analysis - Plots\\plot script test\\20230728_kombucha_session2_E-WBarrier_DLC.csv\"\n",
    "spike_file = r\"C:\\Users\\Gianna\\Desktop\\Analysis - Plots\\plot script test\\20230728_kombucha_timeseries_spikes_run2.csv\"\n",
    "output_folder = r\"C:\\Users\\Gianna\\Desktop\\Analysis - Plots\\movedirstest\"\n",
    "move_files([dlc_file, spike_file], output_folder)\n",
    "new_dlc_path = os.path.join(output_folder, os.path.basename(dlc_file))\n",
    "new_spike_path = os.path.join(output_folder, os.path.basename(spike_file))\n",
    "print(os.path.exists(new_spike_path))\n",
    "print(new_dlc_path)"
   ]
  },
  {
   "cell_type": "code",
   "execution_count": null,
   "metadata": {},
   "outputs": [],
   "source": []
  }
 ],
 "metadata": {
  "kernelspec": {
   "display_name": "isxenv",
   "language": "python",
   "name": "python3"
  },
  "language_info": {
   "codemirror_mode": {
    "name": "ipython",
    "version": 3
   },
   "file_extension": ".py",
   "mimetype": "text/x-python",
   "name": "python",
   "nbconvert_exporter": "python",
   "pygments_lexer": "ipython3",
   "version": "3.10.13"
  }
 },
 "nbformat": 4,
 "nbformat_minor": 2
}
